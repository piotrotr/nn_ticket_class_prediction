{
 "cells": [
  {
   "cell_type": "markdown",
   "id": "01e30045",
   "metadata": {},
   "source": [
    "# Projekt 1."
   ]
  },
  {
   "cell_type": "markdown",
   "id": "a9b70689",
   "metadata": {},
   "source": [
    "## Przygotowanie danych."
   ]
  },
  {
   "cell_type": "code",
   "execution_count": 30,
   "id": "8ac488d1",
   "metadata": {},
   "outputs": [
    {
     "data": {
      "application/vnd.microsoft.datawrangler.viewer.v0+json": {
       "columns": [
        {
         "name": "index",
         "rawType": "int64",
         "type": "integer"
        },
        {
         "name": "Extraction_Time",
         "rawType": "object",
         "type": "string"
        },
        {
         "name": "Extraction_Weekday",
         "rawType": "object",
         "type": "string"
        },
        {
         "name": "Flight_weekday",
         "rawType": "object",
         "type": "string"
        },
        {
         "name": "Flight_date",
         "rawType": "datetime64[ns]",
         "type": "datetime"
        },
        {
         "name": "Departure_time",
         "rawType": "float64",
         "type": "float"
        },
        {
         "name": "Arrival_time",
         "rawType": "float64",
         "type": "float"
        },
        {
         "name": "Flight_time",
         "rawType": "float64",
         "type": "float"
        },
        {
         "name": "Departure_airport_code",
         "rawType": "object",
         "type": "string"
        },
        {
         "name": "arr_city",
         "rawType": "object",
         "type": "string"
        },
        {
         "name": "dep_city",
         "rawType": "object",
         "type": "string"
        },
        {
         "name": "Departure_airport_name",
         "rawType": "object",
         "type": "string"
        },
        {
         "name": "Destination_airport_code",
         "rawType": "object",
         "type": "string"
        },
        {
         "name": "Destination_airport_name",
         "rawType": "object",
         "type": "string"
        },
        {
         "name": "Price [PLN]",
         "rawType": "int64",
         "type": "integer"
        },
        {
         "name": "#Layovers",
         "rawType": "int64",
         "type": "integer"
        },
        {
         "name": "Ticket_class",
         "rawType": "object",
         "type": "string"
        },
        {
         "name": "Cabin_bag",
         "rawType": "int64",
         "type": "integer"
        },
        {
         "name": "Checked_bag",
         "rawType": "int64",
         "type": "integer"
        },
        {
         "name": "Days_to_departure",
         "rawType": "int64",
         "type": "integer"
        },
        {
         "name": "layover_airport",
         "rawType": "object",
         "type": "string"
        },
        {
         "name": "layover_duration",
         "rawType": "float64",
         "type": "float"
        },
        {
         "name": "Airline1",
         "rawType": "object",
         "type": "string"
        },
        {
         "name": "low_cost1",
         "rawType": "object",
         "type": "string"
        },
        {
         "name": "Airline2",
         "rawType": "object",
         "type": "string"
        },
        {
         "name": "low_cost2",
         "rawType": "object",
         "type": "string"
        },
        {
         "name": "ujemne",
         "rawType": "int64",
         "type": "integer"
        }
       ],
       "ref": "3f3a4e8c-c892-4a5e-be80-164391a9b3db",
       "rows": [
        [
         "0",
         "02/11/2024 19:16",
         "Saturday",
         "Monday",
         "2024-11-04 00:00:00",
         "16.58",
         "17.92",
         "1.33",
         "WAW",
         "Berlin",
         "Warszawa",
         "Chopina",
         "BER",
         "Berlin Brandenburg",
         "1643",
         "0",
         "Ekonomiczna",
         "1",
         "0",
         "2",
         "-",
         "0.0",
         "LOT",
         "legacy",
         "-",
         "-",
         "-2"
        ],
        [
         "1",
         "02/11/2024 19:16",
         "Saturday",
         "Monday",
         "2024-11-04 00:00:00",
         "18.33",
         "22.67",
         "4.33",
         "WAW",
         "Berlin",
         "Warszawa",
         "Chopina",
         "BER",
         "Berlin Brandenburg",
         "1087",
         "1",
         "Ekonomiczna",
         "0",
         "0",
         "2",
         "CPH",
         "1.58333333333333",
         "Wizz Air",
         "low-cost",
         "easyJet",
         "low-cost",
         "-2"
        ],
        [
         "2",
         "02/11/2024 19:16",
         "Saturday",
         "Monday",
         "2024-11-04 00:00:00",
         "19.67",
         "21.0",
         "1.33",
         "WAW",
         "Berlin",
         "Warszawa",
         "Chopina",
         "BER",
         "Berlin Brandenburg",
         "1749",
         "0",
         "Ekonomiczna",
         "1",
         "0",
         "2",
         "-",
         "0.0",
         "LOT",
         "legacy",
         "-",
         "-",
         "-2"
        ],
        [
         "3",
         "02/11/2024 19:16",
         "Saturday",
         "Monday",
         "2024-11-04 00:00:00",
         "6.08",
         "11.92",
         "5.83",
         "WAW",
         "Berlin",
         "Warszawa",
         "Chopina",
         "BER",
         "Berlin Brandenburg",
         "1776",
         "1",
         "Ekonomiczna",
         "0",
         "0",
         "2",
         "FCO",
         "1.08333333333333",
         "Wizz Air",
         "low-cost",
         "easyJet",
         "low-cost",
         "-2"
        ],
        [
         "4",
         "02/11/2024 19:16",
         "Saturday",
         "Monday",
         "2024-11-04 00:00:00",
         "17.0",
         "22.67",
         "5.67",
         "WAW",
         "Berlin",
         "Warszawa",
         "Chopina",
         "BER",
         "Berlin Brandenburg",
         "1878",
         "1",
         "Ekonomiczna",
         "1",
         "0",
         "2",
         "MUC",
         "2.83333333333333",
         "Lufthansa",
         "legacy",
         "Lufthansa",
         "legacy",
         "-2"
        ]
       ],
       "shape": {
        "columns": 26,
        "rows": 5
       }
      },
      "text/html": [
       "<div>\n",
       "<style scoped>\n",
       "    .dataframe tbody tr th:only-of-type {\n",
       "        vertical-align: middle;\n",
       "    }\n",
       "\n",
       "    .dataframe tbody tr th {\n",
       "        vertical-align: top;\n",
       "    }\n",
       "\n",
       "    .dataframe thead th {\n",
       "        text-align: right;\n",
       "    }\n",
       "</style>\n",
       "<table border=\"1\" class=\"dataframe\">\n",
       "  <thead>\n",
       "    <tr style=\"text-align: right;\">\n",
       "      <th></th>\n",
       "      <th>Extraction_Time</th>\n",
       "      <th>Extraction_Weekday</th>\n",
       "      <th>Flight_weekday</th>\n",
       "      <th>Flight_date</th>\n",
       "      <th>Departure_time</th>\n",
       "      <th>Arrival_time</th>\n",
       "      <th>Flight_time</th>\n",
       "      <th>Departure_airport_code</th>\n",
       "      <th>arr_city</th>\n",
       "      <th>dep_city</th>\n",
       "      <th>...</th>\n",
       "      <th>Cabin_bag</th>\n",
       "      <th>Checked_bag</th>\n",
       "      <th>Days_to_departure</th>\n",
       "      <th>layover_airport</th>\n",
       "      <th>layover_duration</th>\n",
       "      <th>Airline1</th>\n",
       "      <th>low_cost1</th>\n",
       "      <th>Airline2</th>\n",
       "      <th>low_cost2</th>\n",
       "      <th>ujemne</th>\n",
       "    </tr>\n",
       "  </thead>\n",
       "  <tbody>\n",
       "    <tr>\n",
       "      <th>0</th>\n",
       "      <td>02/11/2024 19:16</td>\n",
       "      <td>Saturday</td>\n",
       "      <td>Monday</td>\n",
       "      <td>2024-11-04</td>\n",
       "      <td>16.58</td>\n",
       "      <td>17.92</td>\n",
       "      <td>1.33</td>\n",
       "      <td>WAW</td>\n",
       "      <td>Berlin</td>\n",
       "      <td>Warszawa</td>\n",
       "      <td>...</td>\n",
       "      <td>1</td>\n",
       "      <td>0</td>\n",
       "      <td>2</td>\n",
       "      <td>-</td>\n",
       "      <td>0.000000</td>\n",
       "      <td>LOT</td>\n",
       "      <td>legacy</td>\n",
       "      <td>-</td>\n",
       "      <td>-</td>\n",
       "      <td>-2</td>\n",
       "    </tr>\n",
       "    <tr>\n",
       "      <th>1</th>\n",
       "      <td>02/11/2024 19:16</td>\n",
       "      <td>Saturday</td>\n",
       "      <td>Monday</td>\n",
       "      <td>2024-11-04</td>\n",
       "      <td>18.33</td>\n",
       "      <td>22.67</td>\n",
       "      <td>4.33</td>\n",
       "      <td>WAW</td>\n",
       "      <td>Berlin</td>\n",
       "      <td>Warszawa</td>\n",
       "      <td>...</td>\n",
       "      <td>0</td>\n",
       "      <td>0</td>\n",
       "      <td>2</td>\n",
       "      <td>CPH</td>\n",
       "      <td>1.583333</td>\n",
       "      <td>Wizz Air</td>\n",
       "      <td>low-cost</td>\n",
       "      <td>easyJet</td>\n",
       "      <td>low-cost</td>\n",
       "      <td>-2</td>\n",
       "    </tr>\n",
       "    <tr>\n",
       "      <th>2</th>\n",
       "      <td>02/11/2024 19:16</td>\n",
       "      <td>Saturday</td>\n",
       "      <td>Monday</td>\n",
       "      <td>2024-11-04</td>\n",
       "      <td>19.67</td>\n",
       "      <td>21.00</td>\n",
       "      <td>1.33</td>\n",
       "      <td>WAW</td>\n",
       "      <td>Berlin</td>\n",
       "      <td>Warszawa</td>\n",
       "      <td>...</td>\n",
       "      <td>1</td>\n",
       "      <td>0</td>\n",
       "      <td>2</td>\n",
       "      <td>-</td>\n",
       "      <td>0.000000</td>\n",
       "      <td>LOT</td>\n",
       "      <td>legacy</td>\n",
       "      <td>-</td>\n",
       "      <td>-</td>\n",
       "      <td>-2</td>\n",
       "    </tr>\n",
       "    <tr>\n",
       "      <th>3</th>\n",
       "      <td>02/11/2024 19:16</td>\n",
       "      <td>Saturday</td>\n",
       "      <td>Monday</td>\n",
       "      <td>2024-11-04</td>\n",
       "      <td>6.08</td>\n",
       "      <td>11.92</td>\n",
       "      <td>5.83</td>\n",
       "      <td>WAW</td>\n",
       "      <td>Berlin</td>\n",
       "      <td>Warszawa</td>\n",
       "      <td>...</td>\n",
       "      <td>0</td>\n",
       "      <td>0</td>\n",
       "      <td>2</td>\n",
       "      <td>FCO</td>\n",
       "      <td>1.083333</td>\n",
       "      <td>Wizz Air</td>\n",
       "      <td>low-cost</td>\n",
       "      <td>easyJet</td>\n",
       "      <td>low-cost</td>\n",
       "      <td>-2</td>\n",
       "    </tr>\n",
       "    <tr>\n",
       "      <th>4</th>\n",
       "      <td>02/11/2024 19:16</td>\n",
       "      <td>Saturday</td>\n",
       "      <td>Monday</td>\n",
       "      <td>2024-11-04</td>\n",
       "      <td>17.00</td>\n",
       "      <td>22.67</td>\n",
       "      <td>5.67</td>\n",
       "      <td>WAW</td>\n",
       "      <td>Berlin</td>\n",
       "      <td>Warszawa</td>\n",
       "      <td>...</td>\n",
       "      <td>1</td>\n",
       "      <td>0</td>\n",
       "      <td>2</td>\n",
       "      <td>MUC</td>\n",
       "      <td>2.833333</td>\n",
       "      <td>Lufthansa</td>\n",
       "      <td>legacy</td>\n",
       "      <td>Lufthansa</td>\n",
       "      <td>legacy</td>\n",
       "      <td>-2</td>\n",
       "    </tr>\n",
       "  </tbody>\n",
       "</table>\n",
       "<p>5 rows × 26 columns</p>\n",
       "</div>"
      ],
      "text/plain": [
       "    Extraction_Time Extraction_Weekday Flight_weekday Flight_date  \\\n",
       "0  02/11/2024 19:16           Saturday         Monday  2024-11-04   \n",
       "1  02/11/2024 19:16           Saturday         Monday  2024-11-04   \n",
       "2  02/11/2024 19:16           Saturday         Monday  2024-11-04   \n",
       "3  02/11/2024 19:16           Saturday         Monday  2024-11-04   \n",
       "4  02/11/2024 19:16           Saturday         Monday  2024-11-04   \n",
       "\n",
       "   Departure_time  Arrival_time  Flight_time Departure_airport_code arr_city  \\\n",
       "0           16.58         17.92         1.33                    WAW   Berlin   \n",
       "1           18.33         22.67         4.33                    WAW   Berlin   \n",
       "2           19.67         21.00         1.33                    WAW   Berlin   \n",
       "3            6.08         11.92         5.83                    WAW   Berlin   \n",
       "4           17.00         22.67         5.67                    WAW   Berlin   \n",
       "\n",
       "   dep_city  ... Cabin_bag Checked_bag Days_to_departure  layover_airport  \\\n",
       "0  Warszawa  ...         1           0                 2                -   \n",
       "1  Warszawa  ...         0           0                 2              CPH   \n",
       "2  Warszawa  ...         1           0                 2                -   \n",
       "3  Warszawa  ...         0           0                 2              FCO   \n",
       "4  Warszawa  ...         1           0                 2              MUC   \n",
       "\n",
       "   layover_duration   Airline1  low_cost1   Airline2  low_cost2 ujemne  \n",
       "0          0.000000        LOT     legacy          -          -     -2  \n",
       "1          1.583333   Wizz Air   low-cost    easyJet   low-cost     -2  \n",
       "2          0.000000        LOT     legacy          -          -     -2  \n",
       "3          1.083333   Wizz Air   low-cost    easyJet   low-cost     -2  \n",
       "4          2.833333  Lufthansa     legacy  Lufthansa     legacy     -2  \n",
       "\n",
       "[5 rows x 26 columns]"
      ]
     },
     "execution_count": 30,
     "metadata": {},
     "output_type": "execute_result"
    }
   ],
   "source": [
    "import pandas as pd\n",
    "import numpy as np\n",
    "\n",
    "dane = pd.read_excel(\"loty_clean.xlsx\")\n",
    "\n",
    "dane.head()"
   ]
  },
  {
   "cell_type": "markdown",
   "id": "b1a1bffc",
   "metadata": {},
   "source": [
    "Zamiana nazw kolumn."
   ]
  },
  {
   "cell_type": "code",
   "execution_count": 31,
   "id": "750b0c59",
   "metadata": {},
   "outputs": [
    {
     "data": {
      "text/plain": [
       "Index(['Extraction_Time', 'Extraction_Weekday', 'Flight_weekday',\n",
       "       'Flight_date', 'Departure_time', 'Arrival_time', 'Flight_time',\n",
       "       'Departure_airport_code', 'arr_city', 'dep_city',\n",
       "       'Departure_airport_name', 'Destination_airport_code',\n",
       "       'Destination_airport_name', 'Price', 'Num_Layovers', 'Ticket_class',\n",
       "       'Cabin_bag', 'Checked_bag', 'Days_to_departure', 'layover_airport',\n",
       "       'layover_duration', 'Airline1', 'low_cost1', 'Airline2', 'low_cost2',\n",
       "       'ujemne'],\n",
       "      dtype='object')"
      ]
     },
     "execution_count": 31,
     "metadata": {},
     "output_type": "execute_result"
    }
   ],
   "source": [
    "dane = dane.rename(columns={\"#Layovers\": \"Num_Layovers\", \"Price [PLN]\": \"Price\"})\n",
    "dane.columns"
   ]
  },
  {
   "cell_type": "code",
   "execution_count": 32,
   "id": "24e72ccf",
   "metadata": {},
   "outputs": [
    {
     "data": {
      "application/vnd.microsoft.datawrangler.viewer.v0+json": {
       "columns": [
        {
         "name": "index",
         "rawType": "int64",
         "type": "integer"
        },
        {
         "name": "Extraction_Time",
         "rawType": "datetime64[ns]",
         "type": "datetime"
        },
        {
         "name": "Extraction_Weekday",
         "rawType": "object",
         "type": "string"
        },
        {
         "name": "Flight_weekday",
         "rawType": "object",
         "type": "string"
        },
        {
         "name": "Flight_date",
         "rawType": "datetime64[ns]",
         "type": "datetime"
        },
        {
         "name": "Departure_time",
         "rawType": "float64",
         "type": "float"
        },
        {
         "name": "Arrival_time",
         "rawType": "float64",
         "type": "float"
        },
        {
         "name": "Flight_time",
         "rawType": "float64",
         "type": "float"
        },
        {
         "name": "Departure_airport_code",
         "rawType": "object",
         "type": "string"
        },
        {
         "name": "arr_city",
         "rawType": "object",
         "type": "string"
        },
        {
         "name": "dep_city",
         "rawType": "object",
         "type": "string"
        },
        {
         "name": "Departure_airport_name",
         "rawType": "object",
         "type": "string"
        },
        {
         "name": "Destination_airport_code",
         "rawType": "object",
         "type": "string"
        },
        {
         "name": "Destination_airport_name",
         "rawType": "object",
         "type": "string"
        },
        {
         "name": "Price",
         "rawType": "int64",
         "type": "integer"
        },
        {
         "name": "Num_Layovers",
         "rawType": "int64",
         "type": "integer"
        },
        {
         "name": "Ticket_class",
         "rawType": "object",
         "type": "string"
        },
        {
         "name": "Cabin_bag",
         "rawType": "int64",
         "type": "integer"
        },
        {
         "name": "Checked_bag",
         "rawType": "int64",
         "type": "integer"
        },
        {
         "name": "Days_to_departure",
         "rawType": "int64",
         "type": "integer"
        },
        {
         "name": "layover_airport",
         "rawType": "object",
         "type": "string"
        },
        {
         "name": "layover_duration",
         "rawType": "float64",
         "type": "float"
        },
        {
         "name": "Airline1",
         "rawType": "object",
         "type": "string"
        },
        {
         "name": "low_cost1",
         "rawType": "object",
         "type": "string"
        },
        {
         "name": "Airline2",
         "rawType": "object",
         "type": "string"
        },
        {
         "name": "low_cost2",
         "rawType": "object",
         "type": "string"
        },
        {
         "name": "ujemne",
         "rawType": "int64",
         "type": "integer"
        }
       ],
       "ref": "dd13da50-11bc-496f-8ae1-dc56c851ab36",
       "rows": [
        [
         "0",
         "2024-11-02 00:00:00",
         "Saturday",
         "Monday",
         "2024-11-04 00:00:00",
         "16.58",
         "17.92",
         "1.33",
         "WAW",
         "Berlin",
         "Warszawa",
         "Chopina",
         "BER",
         "Berlin Brandenburg",
         "1643",
         "0",
         "Ekonomiczna",
         "1",
         "0",
         "2",
         "-",
         "0.0",
         "LOT",
         "legacy",
         "-",
         "-",
         "-2"
        ],
        [
         "1",
         "2024-11-02 00:00:00",
         "Saturday",
         "Monday",
         "2024-11-04 00:00:00",
         "18.33",
         "22.67",
         "4.33",
         "WAW",
         "Berlin",
         "Warszawa",
         "Chopina",
         "BER",
         "Berlin Brandenburg",
         "1087",
         "1",
         "Ekonomiczna",
         "0",
         "0",
         "2",
         "CPH",
         "1.58333333333333",
         "Wizz Air",
         "low-cost",
         "easyJet",
         "low-cost",
         "-2"
        ],
        [
         "2",
         "2024-11-02 00:00:00",
         "Saturday",
         "Monday",
         "2024-11-04 00:00:00",
         "19.67",
         "21.0",
         "1.33",
         "WAW",
         "Berlin",
         "Warszawa",
         "Chopina",
         "BER",
         "Berlin Brandenburg",
         "1749",
         "0",
         "Ekonomiczna",
         "1",
         "0",
         "2",
         "-",
         "0.0",
         "LOT",
         "legacy",
         "-",
         "-",
         "-2"
        ],
        [
         "3",
         "2024-11-02 00:00:00",
         "Saturday",
         "Monday",
         "2024-11-04 00:00:00",
         "6.08",
         "11.92",
         "5.83",
         "WAW",
         "Berlin",
         "Warszawa",
         "Chopina",
         "BER",
         "Berlin Brandenburg",
         "1776",
         "1",
         "Ekonomiczna",
         "0",
         "0",
         "2",
         "FCO",
         "1.08333333333333",
         "Wizz Air",
         "low-cost",
         "easyJet",
         "low-cost",
         "-2"
        ],
        [
         "4",
         "2024-11-02 00:00:00",
         "Saturday",
         "Monday",
         "2024-11-04 00:00:00",
         "17.0",
         "22.67",
         "5.67",
         "WAW",
         "Berlin",
         "Warszawa",
         "Chopina",
         "BER",
         "Berlin Brandenburg",
         "1878",
         "1",
         "Ekonomiczna",
         "1",
         "0",
         "2",
         "MUC",
         "2.83333333333333",
         "Lufthansa",
         "legacy",
         "Lufthansa",
         "legacy",
         "-2"
        ]
       ],
       "shape": {
        "columns": 26,
        "rows": 5
       }
      },
      "text/html": [
       "<div>\n",
       "<style scoped>\n",
       "    .dataframe tbody tr th:only-of-type {\n",
       "        vertical-align: middle;\n",
       "    }\n",
       "\n",
       "    .dataframe tbody tr th {\n",
       "        vertical-align: top;\n",
       "    }\n",
       "\n",
       "    .dataframe thead th {\n",
       "        text-align: right;\n",
       "    }\n",
       "</style>\n",
       "<table border=\"1\" class=\"dataframe\">\n",
       "  <thead>\n",
       "    <tr style=\"text-align: right;\">\n",
       "      <th></th>\n",
       "      <th>Extraction_Time</th>\n",
       "      <th>Extraction_Weekday</th>\n",
       "      <th>Flight_weekday</th>\n",
       "      <th>Flight_date</th>\n",
       "      <th>Departure_time</th>\n",
       "      <th>Arrival_time</th>\n",
       "      <th>Flight_time</th>\n",
       "      <th>Departure_airport_code</th>\n",
       "      <th>arr_city</th>\n",
       "      <th>dep_city</th>\n",
       "      <th>...</th>\n",
       "      <th>Cabin_bag</th>\n",
       "      <th>Checked_bag</th>\n",
       "      <th>Days_to_departure</th>\n",
       "      <th>layover_airport</th>\n",
       "      <th>layover_duration</th>\n",
       "      <th>Airline1</th>\n",
       "      <th>low_cost1</th>\n",
       "      <th>Airline2</th>\n",
       "      <th>low_cost2</th>\n",
       "      <th>ujemne</th>\n",
       "    </tr>\n",
       "  </thead>\n",
       "  <tbody>\n",
       "    <tr>\n",
       "      <th>0</th>\n",
       "      <td>2024-11-02</td>\n",
       "      <td>Saturday</td>\n",
       "      <td>Monday</td>\n",
       "      <td>2024-11-04</td>\n",
       "      <td>16.58</td>\n",
       "      <td>17.92</td>\n",
       "      <td>1.33</td>\n",
       "      <td>WAW</td>\n",
       "      <td>Berlin</td>\n",
       "      <td>Warszawa</td>\n",
       "      <td>...</td>\n",
       "      <td>1</td>\n",
       "      <td>0</td>\n",
       "      <td>2</td>\n",
       "      <td>-</td>\n",
       "      <td>0.000000</td>\n",
       "      <td>LOT</td>\n",
       "      <td>legacy</td>\n",
       "      <td>-</td>\n",
       "      <td>-</td>\n",
       "      <td>-2</td>\n",
       "    </tr>\n",
       "    <tr>\n",
       "      <th>1</th>\n",
       "      <td>2024-11-02</td>\n",
       "      <td>Saturday</td>\n",
       "      <td>Monday</td>\n",
       "      <td>2024-11-04</td>\n",
       "      <td>18.33</td>\n",
       "      <td>22.67</td>\n",
       "      <td>4.33</td>\n",
       "      <td>WAW</td>\n",
       "      <td>Berlin</td>\n",
       "      <td>Warszawa</td>\n",
       "      <td>...</td>\n",
       "      <td>0</td>\n",
       "      <td>0</td>\n",
       "      <td>2</td>\n",
       "      <td>CPH</td>\n",
       "      <td>1.583333</td>\n",
       "      <td>Wizz Air</td>\n",
       "      <td>low-cost</td>\n",
       "      <td>easyJet</td>\n",
       "      <td>low-cost</td>\n",
       "      <td>-2</td>\n",
       "    </tr>\n",
       "    <tr>\n",
       "      <th>2</th>\n",
       "      <td>2024-11-02</td>\n",
       "      <td>Saturday</td>\n",
       "      <td>Monday</td>\n",
       "      <td>2024-11-04</td>\n",
       "      <td>19.67</td>\n",
       "      <td>21.00</td>\n",
       "      <td>1.33</td>\n",
       "      <td>WAW</td>\n",
       "      <td>Berlin</td>\n",
       "      <td>Warszawa</td>\n",
       "      <td>...</td>\n",
       "      <td>1</td>\n",
       "      <td>0</td>\n",
       "      <td>2</td>\n",
       "      <td>-</td>\n",
       "      <td>0.000000</td>\n",
       "      <td>LOT</td>\n",
       "      <td>legacy</td>\n",
       "      <td>-</td>\n",
       "      <td>-</td>\n",
       "      <td>-2</td>\n",
       "    </tr>\n",
       "    <tr>\n",
       "      <th>3</th>\n",
       "      <td>2024-11-02</td>\n",
       "      <td>Saturday</td>\n",
       "      <td>Monday</td>\n",
       "      <td>2024-11-04</td>\n",
       "      <td>6.08</td>\n",
       "      <td>11.92</td>\n",
       "      <td>5.83</td>\n",
       "      <td>WAW</td>\n",
       "      <td>Berlin</td>\n",
       "      <td>Warszawa</td>\n",
       "      <td>...</td>\n",
       "      <td>0</td>\n",
       "      <td>0</td>\n",
       "      <td>2</td>\n",
       "      <td>FCO</td>\n",
       "      <td>1.083333</td>\n",
       "      <td>Wizz Air</td>\n",
       "      <td>low-cost</td>\n",
       "      <td>easyJet</td>\n",
       "      <td>low-cost</td>\n",
       "      <td>-2</td>\n",
       "    </tr>\n",
       "    <tr>\n",
       "      <th>4</th>\n",
       "      <td>2024-11-02</td>\n",
       "      <td>Saturday</td>\n",
       "      <td>Monday</td>\n",
       "      <td>2024-11-04</td>\n",
       "      <td>17.00</td>\n",
       "      <td>22.67</td>\n",
       "      <td>5.67</td>\n",
       "      <td>WAW</td>\n",
       "      <td>Berlin</td>\n",
       "      <td>Warszawa</td>\n",
       "      <td>...</td>\n",
       "      <td>1</td>\n",
       "      <td>0</td>\n",
       "      <td>2</td>\n",
       "      <td>MUC</td>\n",
       "      <td>2.833333</td>\n",
       "      <td>Lufthansa</td>\n",
       "      <td>legacy</td>\n",
       "      <td>Lufthansa</td>\n",
       "      <td>legacy</td>\n",
       "      <td>-2</td>\n",
       "    </tr>\n",
       "  </tbody>\n",
       "</table>\n",
       "<p>5 rows × 26 columns</p>\n",
       "</div>"
      ],
      "text/plain": [
       "  Extraction_Time Extraction_Weekday Flight_weekday Flight_date  \\\n",
       "0      2024-11-02           Saturday         Monday  2024-11-04   \n",
       "1      2024-11-02           Saturday         Monday  2024-11-04   \n",
       "2      2024-11-02           Saturday         Monday  2024-11-04   \n",
       "3      2024-11-02           Saturday         Monday  2024-11-04   \n",
       "4      2024-11-02           Saturday         Monday  2024-11-04   \n",
       "\n",
       "   Departure_time  Arrival_time  Flight_time Departure_airport_code arr_city  \\\n",
       "0           16.58         17.92         1.33                    WAW   Berlin   \n",
       "1           18.33         22.67         4.33                    WAW   Berlin   \n",
       "2           19.67         21.00         1.33                    WAW   Berlin   \n",
       "3            6.08         11.92         5.83                    WAW   Berlin   \n",
       "4           17.00         22.67         5.67                    WAW   Berlin   \n",
       "\n",
       "   dep_city  ... Cabin_bag Checked_bag Days_to_departure  layover_airport  \\\n",
       "0  Warszawa  ...         1           0                 2                -   \n",
       "1  Warszawa  ...         0           0                 2              CPH   \n",
       "2  Warszawa  ...         1           0                 2                -   \n",
       "3  Warszawa  ...         0           0                 2              FCO   \n",
       "4  Warszawa  ...         1           0                 2              MUC   \n",
       "\n",
       "   layover_duration   Airline1  low_cost1   Airline2  low_cost2 ujemne  \n",
       "0          0.000000        LOT     legacy          -          -     -2  \n",
       "1          1.583333   Wizz Air   low-cost    easyJet   low-cost     -2  \n",
       "2          0.000000        LOT     legacy          -          -     -2  \n",
       "3          1.083333   Wizz Air   low-cost    easyJet   low-cost     -2  \n",
       "4          2.833333  Lufthansa     legacy  Lufthansa     legacy     -2  \n",
       "\n",
       "[5 rows x 26 columns]"
      ]
     },
     "execution_count": 32,
     "metadata": {},
     "output_type": "execute_result"
    }
   ],
   "source": [
    "# przekształcenie dat\n",
    "dane[\"Flight_date\"] = pd.to_datetime(dane[\"Flight_date\"])\n",
    "dane[\"Extraction_Time\"] = pd.to_datetime(dane[\"Extraction_Time\"].str.split(\" \").apply(lambda x: x[0]), dayfirst=True)\n",
    "\n",
    "\n",
    "dane.head()"
   ]
  },
  {
   "cell_type": "code",
   "execution_count": 33,
   "id": "4aa92a74",
   "metadata": {},
   "outputs": [],
   "source": [
    "# usunięcie zbędnych (czy na pewno?) kolumn\n",
    "# \"arr_city\", \"dep_city\",  - co zrobić?\n",
    "dane = dane.loc[dane[\"low_cost1\"] == dane[\"low_cost2\"], ]\n",
    "dane.drop(columns = [\"Extraction_Time\", \"Flight_date\", \"Departure_airport_code\", \"Destination_airport_code\",\n",
    "                     \"Departure_airport_name\", \"Destination_airport_name\", \n",
    "                     \"layover_airport\", \"ujemne\", \"low_cost2\", \"Airline2\", \"Airline1\", \"Ticket_class\"], inplace=True)"
   ]
  },
  {
   "cell_type": "code",
   "execution_count": 34,
   "id": "76325e12",
   "metadata": {},
   "outputs": [
    {
     "data": {
      "text/plain": [
       "Index(['Extraction_Weekday', 'Flight_weekday', 'Departure_time',\n",
       "       'Arrival_time', 'Flight_time', 'arr_city', 'dep_city', 'Price',\n",
       "       'Num_Layovers', 'Cabin_bag', 'Checked_bag', 'Days_to_departure',\n",
       "       'layover_duration', 'low_cost1', 'Is_Departure_Warszawa',\n",
       "       'Extraction_Weekday', 'Flight_weekday', 'Departure_time',\n",
       "       'Arrival_time', 'Flight_time', 'dep_city', 'Price', 'Num_Layovers',\n",
       "       'Cabin_bag', 'Checked_bag', 'Days_to_departure', 'layover_duration',\n",
       "       'low_cost1', 'Is_Arrival_Londyn', 'Is_Arrival_Paryż', 'Is_Arrival_Rzym',\n",
       "       'Is_Flight_Monday', 'Is_Flight_Saturday', 'Is_Flight_Sunday',\n",
       "       'Is_Flight_Thursday', 'Is_Flight_Tuesday', 'Is_Flight_Wednesday',\n",
       "       'Is_Extraction_Monday', 'Is_Extraction_Saturday',\n",
       "       'Is_Extraction_Sunday', 'Is_Extraction_Thursday',\n",
       "       'Is_Extraction_Tuesday', 'Is_Extraction_Wednesday', 'Is_low-cost'],\n",
       "      dtype='object')"
      ]
     },
     "execution_count": 34,
     "metadata": {},
     "output_type": "execute_result"
    }
   ],
   "source": [
    "onehot_departure = pd.get_dummies(dane[\"dep_city\"], prefix= \"Is_Departure\", drop_first=True)\n",
    "onehot_arrival = pd.get_dummies(dane, columns=[\"arr_city\"], prefix= \"Is_Arrival\", drop_first=True)\n",
    "\n",
    "onehot_flight_weekday = pd.get_dummies(dane[\"Flight_weekday\"], prefix = \"Is_Flight\", drop_first=True)\n",
    "onehot_extraction_weekday = pd.get_dummies(dane[\"Extraction_Weekday\"], prefix = \"Is_Extraction\", drop_first=True)\n",
    "\n",
    "onehot_lowcost = pd.get_dummies(dane[\"low_cost1\"], prefix = \"Is\", drop_first=True)\n",
    "\n",
    "# onehot_airline2 = pd.get_dummies(dane[\"Airline2\"], prefix=\"Is\", drop_first=False)\n",
    "# onehot_airline2.columns = [x + \"2\" for x in onehot_airline2.columns]\n",
    "\n",
    "\n",
    "dane = pd.concat([dane, onehot_departure, onehot_arrival, onehot_flight_weekday, onehot_extraction_weekday, onehot_lowcost], axis=1)\n",
    "\n",
    "dane.columns"
   ]
  },
  {
   "cell_type": "markdown",
   "id": "a5a7c980",
   "metadata": {},
   "source": [
    "Usuwamy kolumny zbędne po onehotencodingu."
   ]
  },
  {
   "cell_type": "code",
   "execution_count": 35,
   "id": "6f0cda8d",
   "metadata": {},
   "outputs": [
    {
     "data": {
      "text/plain": [
       "(105491, 44)"
      ]
     },
     "execution_count": 35,
     "metadata": {},
     "output_type": "execute_result"
    }
   ],
   "source": [
    "dane.shape"
   ]
  },
  {
   "cell_type": "code",
   "execution_count": 36,
   "id": "d8e84ca1",
   "metadata": {},
   "outputs": [],
   "source": [
    "dane.drop(columns = [\"low_cost1\", \"dep_city\", \"arr_city\", \"Flight_weekday\", \n",
    "                      \"Extraction_Weekday\"], inplace=True)\n",
    "\n"
   ]
  },
  {
   "cell_type": "code",
   "execution_count": 37,
   "id": "d59062ea",
   "metadata": {},
   "outputs": [
    {
     "data": {
      "text/plain": [
       "Index(['Departure_time', 'Arrival_time', 'Flight_time', 'Price',\n",
       "       'Num_Layovers', 'Cabin_bag', 'Checked_bag', 'Days_to_departure',\n",
       "       'layover_duration', 'Is_Departure_Warszawa', 'Departure_time',\n",
       "       'Arrival_time', 'Flight_time', 'Price', 'Num_Layovers', 'Cabin_bag',\n",
       "       'Checked_bag', 'Days_to_departure', 'layover_duration',\n",
       "       'Is_Arrival_Londyn', 'Is_Arrival_Paryż', 'Is_Arrival_Rzym',\n",
       "       'Is_Flight_Monday', 'Is_Flight_Saturday', 'Is_Flight_Sunday',\n",
       "       'Is_Flight_Thursday', 'Is_Flight_Tuesday', 'Is_Flight_Wednesday',\n",
       "       'Is_Extraction_Monday', 'Is_Extraction_Saturday',\n",
       "       'Is_Extraction_Sunday', 'Is_Extraction_Thursday',\n",
       "       'Is_Extraction_Tuesday', 'Is_Extraction_Wednesday', 'Is_low-cost'],\n",
       "      dtype='object')"
      ]
     },
     "execution_count": 37,
     "metadata": {},
     "output_type": "execute_result"
    }
   ],
   "source": [
    "dane.columns"
   ]
  },
  {
   "cell_type": "markdown",
   "id": "43c060a7",
   "metadata": {},
   "source": [
    "Konwersja całego dataframe na typ numeric i podział na zbiory treningowe i testowe oraz wektor celu i macierz cech."
   ]
  },
  {
   "cell_type": "code",
   "execution_count": 38,
   "id": "b4608a4a",
   "metadata": {},
   "outputs": [],
   "source": [
    "from sklearn.model_selection import train_test_split\n",
    "dane = dane.apply(pd.to_numeric)\n",
    "dane.to_pickle(\"dane_klasyfikacja_onehot2.pkl\")"
   ]
  },
  {
   "cell_type": "code",
   "execution_count": null,
   "id": "9082bdb4",
   "metadata": {},
   "outputs": [],
   "source": []
  }
 ],
 "metadata": {
  "kernelspec": {
   "display_name": "base",
   "language": "python",
   "name": "python3"
  },
  "language_info": {
   "codemirror_mode": {
    "name": "ipython",
    "version": 3
   },
   "file_extension": ".py",
   "mimetype": "text/x-python",
   "name": "python",
   "nbconvert_exporter": "python",
   "pygments_lexer": "ipython3",
   "version": "3.12.7"
  }
 },
 "nbformat": 4,
 "nbformat_minor": 5
}
